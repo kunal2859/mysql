{
 "cells": [
  {
   "cell_type": "code",
   "execution_count": 1,
   "id": "b0d266dd",
   "metadata": {},
   "outputs": [
    {
     "name": "stdout",
     "output_type": "stream",
     "text": [
      "Collecting mysql-connector-python\n",
      "  Using cached mysql_connector_python-8.0.29-cp39-cp39-win_amd64.whl (7.7 MB)\n",
      "Collecting protobuf>=3.0.0\n",
      "  Using cached protobuf-4.21.2-cp39-cp39-win_amd64.whl (524 kB)\n",
      "Installing collected packages: protobuf, mysql-connector-python\n",
      "Successfully installed mysql-connector-python-8.0.29 protobuf-4.21.2\n"
     ]
    }
   ],
   "source": [
    "!pip install mysql-connector-python"
   ]
  },
  {
   "cell_type": "code",
   "execution_count": 9,
   "id": "cb02493b",
   "metadata": {},
   "outputs": [],
   "source": [
    "import mysql.connector as connection\n",
    "try:\n",
    "    mydb = connection.connect(host=\"localhost\", database=\"kunal12345\", user=\"root\",passwd=\"ka@2859#\",use_pure=True)\n",
    "    query=\"create table test(c1 INT(10), c2 VARCHAR(20), c3 DATE)\"\n",
    "    cursor=mydb.cursor()\n",
    "    cursor.execute(query)\n",
    "    #print(cursor.fetchall())\n",
    "except Exception as e:\n",
    "    mydb.close()\n",
    "    print(str(e))"
   ]
  },
  {
   "cell_type": "code",
   "execution_count": null,
   "id": "b7fec099",
   "metadata": {},
   "outputs": [],
   "source": []
  }
 ],
 "metadata": {
  "kernelspec": {
   "display_name": "Python 3 (ipykernel)",
   "language": "python",
   "name": "python3"
  },
  "language_info": {
   "codemirror_mode": {
    "name": "ipython",
    "version": 3
   },
   "file_extension": ".py",
   "mimetype": "text/x-python",
   "name": "python",
   "nbconvert_exporter": "python",
   "pygments_lexer": "ipython3",
   "version": "3.9.7"
  }
 },
 "nbformat": 4,
 "nbformat_minor": 5
}
